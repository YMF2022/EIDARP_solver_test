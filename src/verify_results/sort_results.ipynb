{
 "cells": [
  {
   "cell_type": "code",
   "execution_count": 1,
   "metadata": {},
   "outputs": [],
   "source": [
    "import pandas as pd\n",
    "import numpy as np"
   ]
  },
  {
   "cell_type": "code",
   "execution_count": 2,
   "metadata": {},
   "outputs": [],
   "source": [
    "# For normal tests\n",
    "PATH = \"../../results/metaheuristics/\"\n",
    "NETWORK = \"cross\"\n",
    "no_cus = 10\n",
    "instance = \"l2-c{}-d2-bt2/\".format(no_cus)\n",
    "iteration = 500\n",
    "folder = \"{}/random_spread/{}\".format(NETWORK, instance)\n",
    "data_folder = \"data/\" + folder\n",
    "result_folder = PATH + folder"
   ]
  },
  {
   "cell_type": "code",
   "execution_count": 3,
   "metadata": {},
   "outputs": [],
   "source": [
    "# For SA tests\n",
    "PATH = \"../../results/metaheuristics/\"\n",
    "NETWORK = \"cross/\""
   ]
  },
  {
   "cell_type": "code",
   "execution_count": 4,
   "metadata": {},
   "outputs": [],
   "source": [
    "def sort_result(cus_list):\n",
    "    len_cus = len(cus_list)\n",
    "    df = {'Instance': [], \n",
    "                'obj_val': [], \n",
    "                'cpu(s)': [], \n",
    "                'No_iter': []}\n",
    "    for i in range(len_cus):\n",
    "        no_cus = cus_list[i]\n",
    "        instance = \"l2-c{}-d2-bt2/\".format(no_cus)\n",
    "        result_folder = PATH + NETWORK + instance\n",
    "        df_sm = pd.read_csv(result_folder + \"summary.csv\")\n",
    "        obj_val = df_sm.ObjValue.loc[0]\n",
    "        cpu_time = df_sm.SolveTime.loc[0]\n",
    "        num_iter = df_sm.No_iter.loc[0]\n",
    "        # df_sm.loc[i] = [instance, obj_val, cpu_time, num_iter]\n",
    "        print(instance)\n",
    "        df['Instance'].append(instance[:-1])\n",
    "        df['obj_val'].append(obj_val)\n",
    "        df['cpu(s)'].append(cpu_time)\n",
    "        df['No_iter'].append(num_iter)\n",
    "        print(\"c{}: objective value: {} and cpu time: {}s\".format(no_cus, obj_val, cpu_time))\n",
    "    df = pd.DataFrame(df)\n",
    "    return df"
   ]
  },
  {
   "cell_type": "code",
   "execution_count": 5,
   "metadata": {},
   "outputs": [
    {
     "name": "stdout",
     "output_type": "stream",
     "text": [
      "l2-c10-d2-bt2/\n",
      "c10: objective value: 490.816647974652 and cpu time: 11.772000074386597s\n",
      "l2-c11-d2-bt2/\n",
      "c11: objective value: 502.3747531478363 and cpu time: 17.26099991798401s\n",
      "l2-c12-d2-bt2/\n",
      "c12: objective value: 568.1757773320107 and cpu time: 14.965999841690063s\n",
      "l2-c13-d2-bt2/\n",
      "c13: objective value: 486.89030890312125 and cpu time: 12.614000082015991s\n",
      "l2-c14-d2-bt2/\n",
      "c14: objective value: 611.9208291130674 and cpu time: 23.41100001335144s\n",
      "l2-c15-d2-bt2/\n",
      "c15: objective value: 682.7630515213522 and cpu time: 24.483999967575077s\n",
      "l2-c16-d2-bt2/\n",
      "c16: objective value: 644.0225409332172 and cpu time: 21.6800000667572s\n",
      "l2-c17-d2-bt2/\n",
      "c17: objective value: 818.0274072783631 and cpu time: 25.48099994659424s\n",
      "l2-c18-d2-bt2/\n",
      "c18: objective value: 671.4359136498481 and cpu time: 16.247999906539917s\n",
      "l2-c19-d2-bt2/\n",
      "c19: objective value: 853.9746600203994 and cpu time: 28.14299988746643s\n",
      "l2-c20-d2-bt2/\n",
      "c20: objective value: 814.8515872300052 and cpu time: 20.816999912261963s\n",
      "l2-c25-d2-bt2/\n",
      "c25: objective value: 1105.0873740152535 and cpu time: 29.21499991416931s\n",
      "l2-c30-d2-bt2/\n",
      "c30: objective value: 1194.4526205366055 and cpu time: 115.88499999046326s\n",
      "l2-c35-d2-bt2/\n",
      "c35: objective value: 1534.8915165704557 and cpu time: 278.38100004196167s\n",
      "l2-c40-d2-bt2/\n",
      "c40: objective value: 1757.0327515649158 and cpu time: 200.55399990081787s\n",
      "l2-c45-d2-bt2/\n",
      "c45: objective value: 1815.601070236092 and cpu time: 174.15499997138977s\n",
      "l2-c50-d2-bt2/\n",
      "c50: objective value: 1924.2152505505285 and cpu time: 284.5389997959137s\n",
      "l2-c55-d2-bt2/\n",
      "c55: objective value: 2242.895366075788 and cpu time: 772.8450000286102s\n",
      "l2-c60-d2-bt2/\n",
      "c60: objective value: 2443.1187958019864 and cpu time: 852.1870000362396s\n"
     ]
    }
   ],
   "source": [
    "cus_list = list(range(10,21,1)) # Define to instances\n",
    "cus_list_large = list(range(25,65,5))\n",
    "cus_list.extend(cus_list_large)\n",
    "df_all = sort_result(cus_list)"
   ]
  },
  {
   "cell_type": "code",
   "execution_count": null,
   "metadata": {},
   "outputs": [],
   "source": [
    "# df_all.to_csv(\"results_9-12.csv\", index=False)"
   ]
  },
  {
   "cell_type": "markdown",
   "metadata": {},
   "source": [
    "## Read results"
   ]
  },
  {
   "cell_type": "code",
   "execution_count": 11,
   "metadata": {},
   "outputs": [],
   "source": [
    "df_9_12 = pd.read_csv(\"results_9-12.csv\")"
   ]
  },
  {
   "cell_type": "code",
   "execution_count": 16,
   "metadata": {},
   "outputs": [
    {
     "data": {
      "text/plain": [
       "19.716090874238446"
      ]
     },
     "execution_count": 16,
     "metadata": {},
     "output_type": "execute_result"
    }
   ],
   "source": [
    "df_9_12.iloc[0:11][\"cpu(s)\"].mean()"
   ]
  },
  {
   "cell_type": "code",
   "execution_count": null,
   "metadata": {},
   "outputs": [],
   "source": []
  }
 ],
 "metadata": {
  "kernelspec": {
   "display_name": "Python 3",
   "language": "python",
   "name": "python3"
  },
  "language_info": {
   "codemirror_mode": {
    "name": "ipython",
    "version": 3
   },
   "file_extension": ".py",
   "mimetype": "text/x-python",
   "name": "python",
   "nbconvert_exporter": "python",
   "pygments_lexer": "ipython3",
   "version": "3.9.7"
  }
 },
 "nbformat": 4,
 "nbformat_minor": 2
}
