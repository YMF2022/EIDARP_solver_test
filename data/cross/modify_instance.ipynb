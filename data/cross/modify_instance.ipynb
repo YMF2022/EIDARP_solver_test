{
 "cells": [
  {
   "cell_type": "code",
   "execution_count": 1,
   "metadata": {},
   "outputs": [],
   "source": [
    "import shutil"
   ]
  },
  {
   "cell_type": "code",
   "execution_count": 2,
   "metadata": {},
   "outputs": [],
   "source": [
    "source_charger = \"cgr_at_depot/l2-c10-d2-bt2/chargers.csv\"\n",
    "# num_cus = 16\n",
    "# target_charger = \"cgr_at_depot/l2-c{}-d2-bt2/chargers.csv\".format(num_cus)"
   ]
  },
  {
   "cell_type": "code",
   "execution_count": 11,
   "metadata": {},
   "outputs": [],
   "source": [
    "cus_list = list(range(25,65,5))\n",
    "cus_list\n",
    "cus_list = [70, 80, 90, 100]"
   ]
  },
  {
   "cell_type": "code",
   "execution_count": 12,
   "metadata": {},
   "outputs": [
    {
     "name": "stdout",
     "output_type": "stream",
     "text": [
      "70\n",
      "80\n",
      "90\n",
      "100\n"
     ]
    }
   ],
   "source": [
    "for num_cus in cus_list:\n",
    "    print(num_cus)\n",
    "    target_charger = \"cgr_at_depot/l2-c{}-d2-bt2/chargers.csv\".format(num_cus)\n",
    "    shutil.copy2(source_charger, target_charger)"
   ]
  },
  {
   "cell_type": "code",
   "execution_count": null,
   "metadata": {},
   "outputs": [],
   "source": []
  }
 ],
 "metadata": {
  "kernelspec": {
   "display_name": "Python 3",
   "language": "python",
   "name": "python3"
  },
  "language_info": {
   "codemirror_mode": {
    "name": "ipython",
    "version": 3
   },
   "file_extension": ".py",
   "mimetype": "text/x-python",
   "name": "python",
   "nbconvert_exporter": "python",
   "pygments_lexer": "ipython3",
   "version": "3.9.7"
  }
 },
 "nbformat": 4,
 "nbformat_minor": 2
}
